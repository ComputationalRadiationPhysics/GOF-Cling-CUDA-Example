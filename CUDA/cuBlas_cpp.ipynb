{
 "cells": [
  {
   "cell_type": "markdown",
   "metadata": {},
   "source": [
    "# cuBLAS example with C++ kernel (no CUDA mode)\n",
    "\n",
    "Notebook bases on NVIDIA CUDA example `simpleCUBLAS`"
   ]
  },
  {
   "cell_type": "code",
   "execution_count": null,
   "metadata": {},
   "outputs": [],
   "source": [
    "#pragma cling(add_include_path \"/usr/local/cuda/include\")\n",
    "#pragma cling(add_library_path \"/usr/local/lib\")\n",
    "\n",
    "#include <iostream>\n",
    "#include <random>\n",
    "\n",
    "#include <cuda_runtime.h>\n",
    "#include <cublas_v2.h>\n",
    "\n",
    "#pragma cling(load \"cuda.so\")\n",
    "#pragma cling(load \"libcudart.so\")\n",
    "#pragma cling(load \"libcublas.so\")"
   ]
  },
  {
   "cell_type": "markdown",
   "metadata": {},
   "source": [
    "## Check functions"
   ]
  },
  {
   "cell_type": "code",
   "execution_count": null,
   "metadata": {},
   "outputs": [],
   "source": [
    "inline void cuCheck(cudaError_t code) {\n",
    "  if (code != cudaSuccess) {\n",
    "    std::cerr << \"Error code: \" << code << std::endl\n",
    "              << cudaGetErrorString(code) << std::endl;\n",
    "  }\n",
    "}"
   ]
  },
  {
   "cell_type": "code",
   "execution_count": null,
   "metadata": {},
   "outputs": [],
   "source": [
    "inline void cuCheck(cublasStatus_t code) {\n",
    "  if (code != CUBLAS_STATUS_SUCCESS) {\n",
    "    std::cerr << \"CUBLAS Error code: \" << code << std::endl;\n",
    "  }\n",
    "}"
   ]
  },
  {
   "cell_type": "markdown",
   "metadata": {},
   "source": [
    "## Initialize variables"
   ]
  },
  {
   "cell_type": "code",
   "execution_count": null,
   "metadata": {},
   "outputs": [],
   "source": [
    "int dim = 1024;\n",
    "\n",
    "// host memory\n",
    "float *h_A;\n",
    "float *h_B;\n",
    "float *h_C;\n",
    "// device memory\n",
    "float *d_A = 0;\n",
    "float *d_B = 0;\n",
    "float *d_C = 0;\n",
    "\n",
    "float alpha = 1.0f;\n",
    "float beta = 0.0f;\n",
    "\n",
    "cublasHandle_t handle;\n",
    "\n",
    "std::random_device dev;\n",
    "std::mt19937 rng(dev());\n",
    "std::uniform_real_distribution<> dist(0.f, (float)dim);"
   ]
  },
  {
   "cell_type": "code",
   "execution_count": null,
   "metadata": {},
   "outputs": [],
   "source": [
    "// allocate host memory\n",
    "h_A = new float[dim * dim];\n",
    "h_B = new float[dim * dim];\n",
    "h_C = new float[dim * dim];\n",
    "\n",
    "// allocate device memory\n",
    "cuCheck(cudaMalloc((void **)&d_A, dim * dim * sizeof(d_A[0])));\n",
    "cuCheck(cudaMalloc((void **)&d_B, dim * dim * sizeof(d_A[0])));\n",
    "cuCheck(cudaMalloc((void **)&d_C, dim * dim * sizeof(d_A[0])));\n",
    "\n",
    "// initial matrices with random numbers \n",
    "for(int i = 0; i < dim*dim; ++i){\n",
    "    h_A[i] = dist(rng);\n",
    "    h_B[i] = dist(rng);\n",
    "    h_C[i] = dist(rng);\n",
    "}\n",
    "\n",
    "cuCheck(cublasCreate(&handle));"
   ]
  },
  {
   "cell_type": "markdown",
   "metadata": {},
   "source": [
    "## Copy Memory and run cuBLAS"
   ]
  },
  {
   "cell_type": "code",
   "execution_count": null,
   "metadata": {},
   "outputs": [],
   "source": [
    "// copy memory to device\n",
    "cuCheck(cublasSetVector(dim*dim, sizeof(h_A[0]), h_A, 1, d_A, 1));\n",
    "cuCheck(cublasSetVector(dim*dim, sizeof(h_B[0]), h_B, 1, d_B, 1));\n",
    "cuCheck(cublasSetVector(dim*dim, sizeof(h_C[0]), h_C, 1, d_C, 1));"
   ]
  },
  {
   "cell_type": "code",
   "execution_count": null,
   "metadata": {},
   "outputs": [],
   "source": [
    "cuCheck(cublasSgemm(handle, CUBLAS_OP_N, CUBLAS_OP_N, dim, dim, dim, &alpha, d_A, dim, d_B, dim, &beta, d_C, dim));"
   ]
  },
  {
   "cell_type": "code",
   "execution_count": null,
   "metadata": {},
   "outputs": [],
   "source": [
    "// copy result back\n",
    "cuCheck(cublasGetVector(dim*dim, sizeof(h_C[0]), d_C, 1, h_C, 1));"
   ]
  },
  {
   "cell_type": "markdown",
   "metadata": {},
   "source": [
    "## Verify result"
   ]
  },
  {
   "cell_type": "code",
   "execution_count": null,
   "metadata": {},
   "outputs": [],
   "source": [
    "float *h_C_ref = new float[dim*dim]; \n",
    "float error_norm = 0.f;\n",
    "float ref_norm = 0.f;\n",
    "float diff = 0.f;"
   ]
  },
  {
   "cell_type": "code",
   "execution_count": null,
   "metadata": {},
   "outputs": [],
   "source": [
    "void simple_sgemm(int n, float alpha, const float *A, const float *B,\n",
    "                         float beta, float *C)\n",
    "{\n",
    "    int i;\n",
    "    int j;\n",
    "    int k;\n",
    "\n",
    "    for (i = 0; i < n; ++i)\n",
    "    {\n",
    "        for (j = 0; j < n; ++j)\n",
    "        {\n",
    "            float prod = 0;\n",
    "\n",
    "            for (k = 0; k < n; ++k)\n",
    "            {\n",
    "                prod += A[k * n + i] * B[j * n + k];\n",
    "            }\n",
    "\n",
    "            C[j * n + i] = alpha * prod + beta * C[j * n + i];\n",
    "        }\n",
    "    }\n",
    "}\n"
   ]
  },
  {
   "cell_type": "code",
   "execution_count": null,
   "metadata": {},
   "outputs": [],
   "source": [
    "simple_sgemm(dim, alpha, h_A, h_B, beta, h_C_ref);"
   ]
  },
  {
   "cell_type": "code",
   "execution_count": null,
   "metadata": {},
   "outputs": [],
   "source": [
    "for (int i = 0; i < dim*dim; ++i)\n",
    "{\n",
    "    diff = h_C_ref[i] - h_C[i];\n",
    "    error_norm += diff * diff;\n",
    "    ref_norm += h_C_ref[i] * h_C_ref[i];\n",
    "}\n",
    "\n",
    "error_norm = (float)sqrt((double)error_norm);\n",
    "ref_norm = (float)sqrt((double)ref_norm);\n",
    "\n",
    "if (fabs(ref_norm) < 1e-7)\n",
    "    std::cerr << \"reference norm is 0\" << std::endl;\n",
    "\n",
    "if (error_norm / ref_norm < 1e-6f)\n",
    "    std::cout << \"cuBLAS test passed\" << std::endl;\n",
    "else\n",
    "    std::cout << \"cuBLAS test failed\" << std::endl;"
   ]
  },
  {
   "cell_type": "markdown",
   "metadata": {},
   "source": [
    "## Clean up"
   ]
  },
  {
   "cell_type": "code",
   "execution_count": null,
   "metadata": {},
   "outputs": [],
   "source": [
    "free(h_A);\n",
    "free(h_B);\n",
    "free(h_C);\n",
    "free(h_C_ref);\n",
    "\n",
    "cuCheck(cudaFree(d_A));\n",
    "cuCheck(cudaFree(d_B));\n",
    "cuCheck(cudaFree(d_C));\n",
    "\n",
    "cublasDestroy(handle);"
   ]
  }
 ],
 "metadata": {
  "kernelspec": {
   "display_name": "C++14",
   "language": "C++14",
   "name": "xcpp14"
  },
  "language_info": {
   "codemirror_mode": "text/x-c++src",
   "file_extension": ".cpp",
   "mimetype": "text/x-c++src",
   "name": "c++",
   "version": "-std=c++14"
  }
 },
 "nbformat": 4,
 "nbformat_minor": 4
}
