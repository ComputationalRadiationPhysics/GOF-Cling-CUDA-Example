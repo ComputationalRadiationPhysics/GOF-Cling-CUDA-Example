{
 "cells": [
  {
   "cell_type": "markdown",
   "metadata": {},
   "source": [
    "# Game of Life on GPU - Interactive & Extensible\n",
    "\n",
    "- The example shows an interactive workflow of simulation and analysis. \n",
    "- The simulation runs [Conway's Game of Life](https://en.wikipedia.org/wiki/Conway%27s_Game_of_Life) on a GPU.\n",
    "\n",
    "![GOL iterations](pictures/GOL_Iteration.svg)"
   ]
  },
  {
   "cell_type": "markdown",
   "metadata": {},
   "source": [
    "# Include and Link"
   ]
  },
  {
   "cell_type": "code",
   "execution_count": null,
   "metadata": {},
   "outputs": [],
   "source": [
    "// set the include path of PNGwriter \n",
    "//   https://github.com/pngwriter/pngwriter/tree/dev\n",
    "// (like -Ipngwriter/include for a compiler)\n",
    "#pragma cling(add_include_path \"pngwriter/include\")\n",
    "\n",
    "#include <fstream>\n",
    "#include <vector>\n",
    "#include <sstream>\n",
    "#include <chrono>\n",
    "#include <thread>\n",
    "\n",
    "// include PNGwriter\n",
    "#define NO_FREETYPE\n",
    "#include <pngwriter.h>\n",
    "\n",
    "// helper functions for displaying images\n",
    "#include \"xtl/xbase64.hpp\"\n",
    "#include \"xeus/xjson.hpp\"\n",
    "\n",
    "// self-defined helper functions\n",
    "#include \"color_maps.hpp\"\n",
    "#include \"input_reader.hpp\"\n",
    "#include \"png_generator.hpp\"\n",
    "#include \"helper.hpp\"\n",
    "\n",
    "// link PNGwriter (like -lPNGwriter for a compiler)\n",
    "#pragma cling(load \"pngwriter/lib/libPNGwriter.so\")"
   ]
  },
  {
   "cell_type": "markdown",
   "metadata": {},
   "source": [
    "# Game of Life Setup\n",
    "\n",
    "- setup world size\n",
    "- allocate memory on CPU and GPU\n",
    "- load initial world\n",
    "- copy initial world to the GPU\n",
    "- generate image of the initial world"
   ]
  },
  {
   "cell_type": "code",
   "execution_count": null,
   "metadata": {
    "scrolled": true
   },
   "outputs": [],
   "source": [
    "// size of the world\n",
    "const unsigned int dim = 10u;\n",
    "// two extra columns and rows for ghostcells\n",
    "const unsigned int world_size = dim + 2u;\n",
    "unsigned int iterations = 5;\n",
    "unsigned int current_png = 0;\n",
    "\n",
    "// pointers for host and device memory \n",
    "int * sim_world;\n",
    "int * d_sim_world;\n",
    "int * d_new_sim_world;\n",
    "int * d_swap;\n",
    "// allocate memory on CPU and GPU\n",
    "sim_world = new int[ world_size * world_size ];\n",
    "cuCheck(cudaMalloc( (void **) &d_sim_world, sizeof(int)*world_size*world_size));\n",
    "cuCheck(cudaMalloc( (void **) &d_new_sim_world, sizeof(int)*world_size*world_size));\n",
    "\n",
    "// read initial world from a file\n",
    "if (int error = read_input(\"input.txt\", sim_world, dim, dim, true))\n",
    "    std::cout << \"read input world failed - error code: \" << error << std::endl;\n",
    "\n",
    "// copy initial world to GPU\n",
    "cuCheck(cudaMemcpy(d_sim_world, sim_world, sizeof(int)*world_size*world_size, cudaMemcpyHostToDevice));\n",
    "\n",
    "// allocate memory for the simulation images\n",
    "std::vector< std::vector< unsigned char > > sim_pngs;\n",
    "// create an image of the initial world\n",
    "BlackWhiteMap<int> bw_map;\n",
    "sim_pngs.push_back(generate_png<int>(sim_world, world_size, world_size, &bw_map, true, 20));"
   ]
  },
  {
   "cell_type": "markdown",
   "metadata": {},
   "source": [
    "# CUDA Kernels\n"
   ]
  },
  {
   "cell_type": "code",
   "execution_count": null,
   "metadata": {},
   "outputs": [],
   "source": [
    "// periodic boundary conditions: copy the first/last row/column\n",
    "__global__ void update_boundaries(int dim, int *world) {\n",
    "  int col = blockIdx.x * blockDim.x + threadIdx.x;\n",
    "  int row = blockIdx.y * blockDim.y + threadIdx.y;\n",
    "\n",
    "  // ignore the first two threads: only needed to copy ghost cells for columns \n",
    "  if(col > 1) {\n",
    "    if(row == 0) {\n",
    "      // Copy first real row to bottom ghost row\n",
    "      world[col-1 + (dim+2)*(dim+1)] = world[(dim+2)     + col-1];\n",
    "    }else{\n",
    "      // Copy last real row to top ghost row\n",
    "      world[col-1]                   = world[(dim+2)*dim + col-1];\n",
    "    }\n",
    "  }\n",
    "  __syncthreads();\n",
    "\n",
    "  if(row == 0) {\n",
    "    // Copy first real column to right most ghost column\n",
    "    world[col*(dim+2)+dim+1] = world[col*(dim+2) + 1];\n",
    "  } else {\n",
    "    // Copy last real column to left most ghost column\n",
    "    world[col*(dim+2)      ] = world[col*(dim+2) + dim];\n",
    "  }\n",
    "\n",
    "}"
   ]
  },
  {
   "cell_type": "code",
   "execution_count": null,
   "metadata": {},
   "outputs": [],
   "source": [
    "// main kernel that calculates an iteration of the game of life\n",
    "__global__ void GOL_GPU(int dim, int *world, int *newWorld) {\n",
    "   int row = blockIdx.y * blockDim.y + threadIdx.y + 1;\n",
    "   int col = blockIdx.x * blockDim.x + threadIdx.x + 1;\n",
    "   int id = row*(dim+2) + col;\n",
    "\n",
    "   int numNeighbors;\n",
    "   int cell = world[id];\n",
    "\n",
    "   numNeighbors =   world[id+(dim+2)]   // lower\n",
    "      + world[id-(dim+2)]               // upper\n",
    "      + world[id+1]                     // right\n",
    "      + world[id-1]                     // left\n",
    "\n",
    "      + world[id+(dim+3)]   // diagonal lower right\n",
    "      + world[id-(dim+3)]   // diagonal upper left\n",
    "      + world[id-(dim+1)]   // diagonal upper right\n",
    "      + world[id+(dim+1)];  // diagonal lower left\n",
    "\n",
    "   if (cell == 1 && numNeighbors < 2)\n",
    "      newWorld[id] = 0;\n",
    "\n",
    "    // 2) Any living cell with two or three living neighbors lives\n",
    "    else if (cell == 1 && (numNeighbors == 2 || numNeighbors == 3))\n",
    "      newWorld[id] = 1;\n",
    "\n",
    "    // 3) Any living cell with more than three living neighbors dies\n",
    "    else if (cell == 1 && numNeighbors > 3)\n",
    "      newWorld[id] = 0;\n",
    "\n",
    "    // 4) Any dead cell with exactly three living neighbors becomes alive\n",
    "    else if (cell == 0 && numNeighbors == 3)\n",
    "      newWorld[id] = 1;\n",
    "\n",
    "    else\n",
    "      newWorld[id] = cell;\n",
    "}"
   ]
  },
  {
   "cell_type": "markdown",
   "metadata": {},
   "source": [
    "# Interactive Simulation: Main Loop\n",
    "\n",
    "* calculate new iterations\n",
    "* swap new world with the old one\n",
    "* generate an image of the current iteration"
   ]
  },
  {
   "cell_type": "code",
   "execution_count": null,
   "metadata": {},
   "outputs": [],
   "source": [
    "// main loop\n",
    "for(unsigned int i = 0; i < iterations; ++i) {\n",
    "\n",
    "    update_boundaries<<<1, dim3(dim+2, 2, 1)>>>(dim, d_sim_world);\n",
    "    GOL_GPU<<<1, dim3(dim, dim, 1)>>>(dim, d_sim_world, d_new_sim_world);\n",
    "    cuCheck(cudaDeviceSynchronize());\n",
    "\n",
    "    d_swap = d_new_sim_world;\n",
    "    d_new_sim_world = d_sim_world;\n",
    "    d_sim_world = d_swap;\n",
    "\n",
    "    cuCheck(cudaMemcpy(sim_world, d_sim_world, sizeof(int)*world_size*world_size, cudaMemcpyDeviceToHost));\n",
    "    sim_pngs.push_back(generate_png<int>(sim_world, world_size, world_size, &bw_map, true, 20));\n",
    "}"
   ]
  },
  {
   "cell_type": "markdown",
   "metadata": {},
   "source": [
    "# Display Simulation Images"
   ]
  },
  {
   "cell_type": "code",
   "execution_count": null,
   "metadata": {},
   "outputs": [],
   "source": [
    "for(; current_png < sim_pngs.size(); ++current_png) {\n",
    "    display_image(sim_pngs[current_png], true);\n",
    "    std::cout << \"iteration = \" << current_png << std::endl;\n",
    "    std::this_thread::sleep_for(std::chrono::milliseconds(800));\n",
    "}"
   ]
  },
  {
   "cell_type": "markdown",
   "metadata": {},
   "source": [
    "## Nonlinear Program Flow"
   ]
  },
  {
   "cell_type": "code",
   "execution_count": null,
   "metadata": {},
   "outputs": [],
   "source": [
    "iterations = 3;"
   ]
  },
  {
   "cell_type": "markdown",
   "metadata": {},
   "source": [
    "# In-Situ Data Analysis\n",
    "\n",
    "- heatmap of the living neighbors for each cell\n",
    "- kernel uses the simulation result as its input and writes output to an extra buffer"
   ]
  },
  {
   "cell_type": "code",
   "execution_count": null,
   "metadata": {},
   "outputs": [],
   "source": [
    "// counts the living neighbors of a cell\n",
    "__global__ void get_num_neighbors(int dim, int *world, int *newWorld) {\n",
    "   int row = blockIdx.y * blockDim.y + threadIdx.y + 1;\n",
    "   int col = blockIdx.x * blockDim.x + threadIdx.x + 1;\n",
    "   int id = row*(dim+2) + col;\n",
    "\n",
    "   newWorld[id] =   world[id+(dim+2)]   // lower\n",
    "      + world[id-(dim+2)]               // upper\n",
    "      + world[id+1]                     // right\n",
    "      + world[id-1]                     // left\n",
    "\n",
    "      + world[id+(dim+3)]   // diagonal lower right\n",
    "      + world[id-(dim+3)]   // diagonal upper left\n",
    "      + world[id-(dim+1)]   // diagonal upper right\n",
    "      + world[id+(dim+1)];  // diagonal lower left\n",
    "}"
   ]
  },
  {
   "cell_type": "markdown",
   "metadata": {},
   "source": [
    "* allocate memory for analysis on CPU and GPU\n",
    "* run the analysis\n",
    "* generate an image from the analysis result"
   ]
  },
  {
   "cell_type": "code",
   "execution_count": null,
   "metadata": {},
   "outputs": [],
   "source": [
    "// allocate extra memory on the GPU to output the analysis\n",
    "int * d_ana_world;\n",
    "cuCheck(cudaMalloc( (void **) &d_ana_world, sizeof(int)*world_size*world_size));\n",
    "// allocate memory on CPU for the images\n",
    "std::vector< std::vector< unsigned char > > ana_pngs;\n",
    "int * ana_world = new int[world_size*world_size];\n",
    "\n",
    "// run the analysis\n",
    "// use the simulation data as input and write the result into extra memory\n",
    "get_num_neighbors<<<1,dim3(dim, dim, 1)>>>(dim, d_sim_world, d_ana_world);\n",
    "\n",
    "// copy analysis data to the CPU\n",
    "cuCheck(cudaMemcpy(ana_world, d_ana_world, sizeof(int)*world_size*world_size, cudaMemcpyDeviceToHost));\n",
    "// generate a heat map image\n",
    "ana_pngs.push_back(generate_png<int>(ana_world, world_size, world_size, &ch_map, true, 20));"
   ]
  },
  {
   "cell_type": "code",
   "execution_count": null,
   "metadata": {},
   "outputs": [],
   "source": [
    "display_image(ana_pngs.back(), true);"
   ]
  },
  {
   "cell_type": "markdown",
   "metadata": {},
   "source": [
    "![cell legend](pictures/legend_cells.svg)"
   ]
  },
  {
   "cell_type": "markdown",
   "metadata": {},
   "source": [
    "# Run a single Simulation step with Analysis"
   ]
  },
  {
   "cell_type": "code",
   "execution_count": null,
   "metadata": {},
   "outputs": [],
   "source": [
    "// one iteration of the simulation\n",
    "update_boundaries<<<1, dim3(dim+2, 2, 1)>>>(dim, d_sim_world);\n",
    "GOL_GPU<<<1, dim3(dim, dim, 1)>>>(dim, d_sim_world, d_new_sim_world);\n",
    "cuCheck(cudaDeviceSynchronize());\n",
    "\n",
    "// swap memory\n",
    "d_swap = d_new_sim_world;\n",
    "d_new_sim_world = d_sim_world;\n",
    "d_sim_world = d_swap;"
   ]
  },
  {
   "cell_type": "code",
   "execution_count": null,
   "metadata": {},
   "outputs": [],
   "source": [
    "// run analysis\n",
    "get_num_neighbors<<<1,dim3(dim, dim, 1)>>>(dim, d_sim_world, d_ana_world);\n",
    "cuCheck(cudaMemcpy(ana_world, d_ana_world, sizeof(int)*world_size*world_size, cudaMemcpyDeviceToHost));\n",
    "ana_pngs.push_back(generate_png<int>(ana_world, world_size, world_size, &ch_map, true, 20));"
   ]
  },
  {
   "cell_type": "code",
   "execution_count": null,
   "metadata": {},
   "outputs": [],
   "source": [
    "display_image(ana_pngs.back(), true);"
   ]
  },
  {
   "cell_type": "markdown",
   "metadata": {},
   "source": [
    "![cell legend](pictures/legend_cells.svg)"
   ]
  },
  {
   "cell_type": "markdown",
   "metadata": {},
   "source": [
    "<div style=\"height: 500px;\"></div>  \n",
    "\n",
    "\n",
    "\n",
    "\n",
    "\n",
    "\n",
    "\n",
    "\n",
    "\n",
    "\n",
    "# Extras"
   ]
  },
  {
   "cell_type": "markdown",
   "metadata": {},
   "source": [
    "## Interactive Input\n",
    "* Jupyter Notebook offers \"magic\" commands that provide language-independent functions\n",
    "* magic commands starts with `%%`\n",
    "* `%%file [name]` writes the contents of a cell to a file\n",
    "  * the file is stored in the same folder as the notebook and can be loaded via C/C++ functions \n",
    "* depends on the language kernel (xeus features)\n",
    "\n",
    "Define the initial world for the Game of Life simulation. `X` are living cells and `0` are dead."
   ]
  },
  {
   "cell_type": "code",
   "execution_count": null,
   "metadata": {},
   "outputs": [],
   "source": [
    "%%file input.txt\n",
    "0 0 0 0 0 0 0 0 0 0\n",
    "0 0 X 0 0 0 0 0 0 0\n",
    "0 0 0 X 0 0 0 0 0 0\n",
    "0 X X X 0 0 0 0 0 0\n",
    "0 0 0 0 0 0 0 0 0 0\n",
    "0 0 0 0 0 0 0 0 0 0\n",
    "0 0 0 0 0 0 0 0 0 0\n",
    "0 0 0 0 0 0 0 0 0 0\n",
    "0 0 0 0 0 0 0 0 0 0\n",
    "0 0 0 0 0 0 0 0 0 0"
   ]
  },
  {
   "cell_type": "markdown",
   "metadata": {},
   "source": [
    "## Reset the simulation without restarting the kernel"
   ]
  },
  {
   "cell_type": "code",
   "execution_count": null,
   "metadata": {},
   "outputs": [],
   "source": [
    "// load a new inital world into the host memory\n",
    "read_input(\"input.txt\", sim_world, dim, dim, true);\n",
    "// copy the world to the device\n",
    "cuCheck(cudaMemcpy(d_sim_world, sim_world, sizeof(int)*world_size*world_size, cudaMemcpyHostToDevice));\n",
    "// reset png print counter\n",
    "current_png = 0;\n",
    "// delete old images\n",
    "sim_pngs.clear();\n",
    "// create an image of the initial world\n",
    "sim_pngs.push_back(generate_png<int>(sim_world, world_size, world_size, &bw_map, true, 20));"
   ]
  },
  {
   "cell_type": "code",
   "execution_count": null,
   "metadata": {},
   "outputs": [],
   "source": []
  }
 ],
 "metadata": {
  "kernelspec": {
   "display_name": "Xeus-C++14-CUDA",
   "language": "C++14",
   "name": "xeus-cling-cpp14-cuda"
  },
  "language_info": {
   "codemirror_mode": "text/x-c++src",
   "file_extension": ".cpp",
   "mimetype": "text/x-c++src",
   "name": "c++",
   "version": "-std=c++14"
  }
 },
 "nbformat": 4,
 "nbformat_minor": 4
}
