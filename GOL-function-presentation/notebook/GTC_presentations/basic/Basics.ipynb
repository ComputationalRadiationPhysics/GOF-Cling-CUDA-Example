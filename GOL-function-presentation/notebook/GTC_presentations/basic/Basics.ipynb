{
 "cells": [
  {
   "cell_type": "markdown",
   "metadata": {},
   "source": [
    "# About\n",
    "\n",
    "This notebook demonstrates features of Cling, Xeus-Cling and Jupyter Notebook.\n",
    "\n",
    "![Project logos](pictures/logos.svg)"
   ]
  },
  {
   "cell_type": "markdown",
   "metadata": {},
   "source": [
    "# Hello World"
   ]
  },
  {
   "cell_type": "code",
   "execution_count": null,
   "metadata": {},
   "outputs": [],
   "source": [
    "#include <iostream>\n",
    "\n",
    "std::cout << \"Hello World\" << std::endl;"
   ]
  },
  {
   "cell_type": "markdown",
   "metadata": {},
   "source": [
    "- No main() necessary\n",
    "- each statement is in global space\n",
    "- some statements are forbidden in global space, like function calls ...\n",
    "- ... but Cling handles such situations and transforms these statements internally"
   ]
  },
  {
   "cell_type": "markdown",
   "metadata": {},
   "source": [
    "# Global and Local Variables"
   ]
  },
  {
   "cell_type": "code",
   "execution_count": null,
   "metadata": {},
   "outputs": [],
   "source": [
    "// global variable\n",
    "int g1 = 1;"
   ]
  },
  {
   "cell_type": "code",
   "execution_count": null,
   "metadata": {},
   "outputs": [],
   "source": [
    "// local variable\n",
    "{\n",
    "    int l1 = 2;\n",
    "}"
   ]
  },
  {
   "cell_type": "code",
   "execution_count": null,
   "metadata": {},
   "outputs": [],
   "source": [
    "std::cout << l1 << std::endl;"
   ]
  },
  {
   "cell_type": "code",
   "execution_count": null,
   "metadata": {},
   "outputs": [],
   "source": [
    "std::cout << g1 << std::endl;\n",
    "{\n",
    "    // hide global variable\n",
    "    int g1 = 3;\n",
    "    std::cout << g1 << std::endl;\n",
    "}\n",
    "std::cout << g1 << std::endl;"
   ]
  },
  {
   "cell_type": "markdown",
   "metadata": {},
   "source": [
    "# Standard C++ Features"
   ]
  },
  {
   "cell_type": "code",
   "execution_count": null,
   "metadata": {},
   "outputs": [],
   "source": [
    "int fd1(int k){\n",
    "    return k + 2;\n",
    "}"
   ]
  },
  {
   "cell_type": "code",
   "execution_count": null,
   "metadata": {},
   "outputs": [],
   "source": [
    "std::cout << fd1(3) << std::endl;"
   ]
  },
  {
   "cell_type": "code",
   "execution_count": null,
   "metadata": {},
   "outputs": [],
   "source": [
    "class Cd1 {\n",
    "  int a;\n",
    "  int b;\n",
    "\n",
    "public:\n",
    "    Cd1(int a, int b) : a(a), b(b) {}\n",
    "    int sum(){\n",
    "        return a + b;\n",
    "    }\n",
    "};"
   ]
  },
  {
   "cell_type": "code",
   "execution_count": null,
   "metadata": {},
   "outputs": [],
   "source": [
    "Cd1 cd1(4, 7);\n",
    "std::cout << cd1.sum() << std::endl;"
   ]
  },
  {
   "cell_type": "markdown",
   "metadata": {},
   "source": [
    "# Non-Linear Program Flow"
   ]
  },
  {
   "cell_type": "code",
   "execution_count": null,
   "metadata": {},
   "outputs": [],
   "source": [
    "std::cout << non_lin_var << std::endl;"
   ]
  },
  {
   "cell_type": "code",
   "execution_count": null,
   "metadata": {},
   "outputs": [],
   "source": [
    "++non_lin_var;"
   ]
  },
  {
   "cell_type": "code",
   "execution_count": null,
   "metadata": {},
   "outputs": [],
   "source": [
    "int non_lin_var = 3;"
   ]
  },
  {
   "cell_type": "markdown",
   "metadata": {},
   "source": [
    "# Persistent Memory"
   ]
  },
  {
   "cell_type": "code",
   "execution_count": null,
   "metadata": {},
   "outputs": [],
   "source": [
    "int k = 0;"
   ]
  },
  {
   "cell_type": "code",
   "execution_count": null,
   "metadata": {},
   "outputs": [],
   "source": [
    "for (int end = k + 5; k < end; ++k){\n",
    "    std::cout << k << std::endl;\n",
    "}"
   ]
  },
  {
   "cell_type": "code",
   "execution_count": null,
   "metadata": {},
   "outputs": [],
   "source": [
    "k -= 3;"
   ]
  },
  {
   "cell_type": "markdown",
   "metadata": {},
   "source": [
    "# Template Specialization"
   ]
  },
  {
   "cell_type": "code",
   "execution_count": null,
   "metadata": {},
   "outputs": [],
   "source": [
    "#include <chrono>\n",
    "constexpr int dim = 512;"
   ]
  },
  {
   "cell_type": "code",
   "execution_count": null,
   "metadata": {},
   "outputs": [],
   "source": [
    "float * A = new float[dim * dim];\n",
    "float * B = new float[dim * dim];\n",
    "float * C = new float[dim * dim];"
   ]
  },
  {
   "cell_type": "code",
   "execution_count": null,
   "metadata": {},
   "outputs": [],
   "source": [
    "for(int i = 0; i < dim; ++i){\n",
    "    A[i] = static_cast<float>(i);\n",
    "    B[i] = static_cast<float>(i);\n",
    "}"
   ]
  },
  {
   "cell_type": "code",
   "execution_count": null,
   "metadata": {},
   "outputs": [],
   "source": [
    "void var_matmul(float const * const A, float const * const B, float * const C, const int dim)\n",
    "{\n",
    "    float sum = 0.f;\n",
    "    for (int i = 0; i < dim; ++i) {\n",
    "      for (int j = 0; j < dim; ++j) {\n",
    "        for (int k = 0; k < dim; ++k) {\n",
    "          sum += A[i * dim + k] * B[k * dim + j];\n",
    "        }\n",
    "        C[ i * dim + j] = sum;\n",
    "        sum = 0.f;\n",
    "      }\n",
    "    }\n",
    "}"
   ]
  },
  {
   "cell_type": "code",
   "execution_count": null,
   "metadata": {},
   "outputs": [],
   "source": [
    "template<int dim>\n",
    "void t_matmul(float const * const A, float const * const B, float * const C)\n",
    "{\n",
    "    float sum = 0.f;\n",
    "    for (int i = 0; i < dim; ++i) {\n",
    "      for (int j = 0; j < dim; ++j) {\n",
    "        for (int k = 0; k < dim; ++k) {\n",
    "          sum += A[i * dim + k] * B[k * dim + j];\n",
    "        }\n",
    "        C[ i * dim + j] = sum;\n",
    "        sum = 0.f;\n",
    "      }\n",
    "    }\n",
    "}"
   ]
  },
  {
   "cell_type": "code",
   "execution_count": null,
   "metadata": {},
   "outputs": [],
   "source": [
    "var_matmul(A, B, C, dim);\n",
    "t_matmul<dim>(A,B,C);"
   ]
  },
  {
   "cell_type": "code",
   "execution_count": null,
   "metadata": {},
   "outputs": [],
   "source": [
    "{\n",
    "    std::chrono::time_point<std::chrono::high_resolution_clock> v_start, v_end, t_start, t_end;\n",
    "    \n",
    "    v_start = std::chrono::high_resolution_clock::now();\n",
    "    var_matmul(A, B, C, dim);\n",
    "    v_end = std::chrono::high_resolution_clock::now();\n",
    "\n",
    "    t_start = std::chrono::high_resolution_clock::now();\n",
    "    t_matmul<dim>(A, B, C);\n",
    "    t_end = std::chrono::high_resolution_clock::now();\n",
    "\n",
    "    std::chrono::duration<double> v_diff = v_end - v_start;\n",
    "    std::chrono::duration<double> t_diff = t_end - t_start;\n",
    "\n",
    "    std::cout << \"var_matmul: \" << v_diff.count() << \"s\" << std::endl\n",
    "              << \"t_matmul: \" << t_diff.count() << \"s\" << std::endl;\n",
    "}"
   ]
  },
  {
   "cell_type": "markdown",
   "metadata": {},
   "source": [
    "# Including and Linking\n",
    "## Preparation: create a shared library"
   ]
  },
  {
   "cell_type": "code",
   "execution_count": null,
   "metadata": {},
   "outputs": [],
   "source": [
    "%%file foo.hpp\n",
    "#pragma once\n",
    "\n",
    "namespace foo {\n",
    "    int bar();\n",
    "}"
   ]
  },
  {
   "cell_type": "code",
   "execution_count": null,
   "metadata": {},
   "outputs": [],
   "source": [
    "%%file foo.cpp\n",
    "#include \"foo.hpp\"\n",
    "\n",
    "int foo::bar() { return 42; }"
   ]
  },
  {
   "cell_type": "code",
   "execution_count": null,
   "metadata": {},
   "outputs": [],
   "source": [
    "!gcc -shared foo.cpp -o foo.so"
   ]
  },
  {
   "cell_type": "markdown",
   "metadata": {},
   "source": [
    "## Call Functionality of the Library"
   ]
  },
  {
   "cell_type": "code",
   "execution_count": null,
   "metadata": {},
   "outputs": [],
   "source": [
    "foo::bar()"
   ]
  },
  {
   "cell_type": "code",
   "execution_count": null,
   "metadata": {},
   "outputs": [],
   "source": [
    "#include \"foo.hpp\""
   ]
  },
  {
   "cell_type": "code",
   "execution_count": null,
   "metadata": {},
   "outputs": [],
   "source": [
    "foo::bar()"
   ]
  },
  {
   "cell_type": "code",
   "execution_count": null,
   "metadata": {},
   "outputs": [],
   "source": [
    "#pragma cling(load \"foo.so\")"
   ]
  },
  {
   "cell_type": "code",
   "execution_count": null,
   "metadata": {},
   "outputs": [],
   "source": [
    "foo::bar()"
   ]
  },
  {
   "cell_type": "markdown",
   "metadata": {},
   "source": [
    "# REPL Object Representation"
   ]
  },
  {
   "cell_type": "code",
   "execution_count": null,
   "metadata": {},
   "outputs": [],
   "source": [
    "\"Hello World\""
   ]
  },
  {
   "cell_type": "code",
   "execution_count": null,
   "metadata": {},
   "outputs": [],
   "source": [
    "int i1 = 3;"
   ]
  },
  {
   "cell_type": "code",
   "execution_count": null,
   "metadata": {},
   "outputs": [],
   "source": [
    "i1"
   ]
  },
  {
   "cell_type": "code",
   "execution_count": null,
   "metadata": {},
   "outputs": [],
   "source": [
    "int fi1(){\n",
    "    return 42;\n",
    "}"
   ]
  },
  {
   "cell_type": "code",
   "execution_count": null,
   "metadata": {},
   "outputs": [],
   "source": [
    "fi1()"
   ]
  },
  {
   "cell_type": "markdown",
   "metadata": {},
   "source": [
    "# Reflection\n",
    "- values of variables\n",
    "- type of a variable (cling kernel only)\n",
    "- memory address\n",
    "- enum completion (cling kernel only)\n",
    "- interpreter environment"
   ]
  },
  {
   "cell_type": "code",
   "execution_count": null,
   "metadata": {},
   "outputs": [],
   "source": [
    "struct S {\n",
    "    int a = 3;\n",
    "    float b = 6,f;\n",
    "} s;"
   ]
  },
  {
   "cell_type": "code",
   "execution_count": null,
   "metadata": {},
   "outputs": [],
   "source": [
    "s"
   ]
  },
  {
   "cell_type": "code",
   "execution_count": null,
   "metadata": {},
   "outputs": [],
   "source": [
    "s.a"
   ]
  },
  {
   "cell_type": "code",
   "execution_count": null,
   "metadata": {},
   "outputs": [],
   "source": [
    "#include \"cling/Interpreter/Interpreter.h\""
   ]
  },
  {
   "cell_type": "code",
   "execution_count": null,
   "metadata": {},
   "outputs": [],
   "source": [
    "gCling->getDefaultOptLevel()"
   ]
  },
  {
   "cell_type": "code",
   "execution_count": null,
   "metadata": {},
   "outputs": [],
   "source": [
    "gCling->setDefaultOptLevel(3)"
   ]
  },
  {
   "cell_type": "markdown",
   "metadata": {},
   "source": [
    "# Redefinition"
   ]
  },
  {
   "cell_type": "code",
   "execution_count": null,
   "metadata": {},
   "outputs": [],
   "source": [
    "#include \"cling/Interpreter/Interpreter.h\"\n",
    "gCling->allowRedefinition();\n",
    "gCling->isRedefinitionAllowed();"
   ]
  },
  {
   "cell_type": "code",
   "execution_count": null,
   "metadata": {},
   "outputs": [],
   "source": [
    "int func(){\n",
    "    return 43;\n",
    "}"
   ]
  },
  {
   "cell_type": "code",
   "execution_count": null,
   "metadata": {},
   "outputs": [],
   "source": [
    "func()"
   ]
  },
  {
   "cell_type": "code",
   "execution_count": null,
   "metadata": {},
   "outputs": [],
   "source": [
    "class class1 {\n",
    "    int a = 3;\n",
    "    int b = 4;\n",
    "public:\n",
    "    int func() {\n",
    "        return a + b;\n",
    "    }\n",
    "};"
   ]
  },
  {
   "cell_type": "code",
   "execution_count": null,
   "metadata": {},
   "outputs": [],
   "source": [
    "{\n",
    "    class1 c;\n",
    "    std::cout << c.func() << std::endl;\n",
    "}"
   ]
  },
  {
   "cell_type": "markdown",
   "metadata": {},
   "source": [
    "# I/O through Web Elements"
   ]
  },
  {
   "cell_type": "code",
   "execution_count": null,
   "metadata": {},
   "outputs": [],
   "source": [
    "#include <string>\n",
    "#include <fstream>\n",
    "\n",
    "#include \"xtl/xbase64.hpp\"\n",
    "#include \"xeus/xjson.hpp\""
   ]
  },
  {
   "cell_type": "code",
   "execution_count": null,
   "metadata": {},
   "outputs": [],
   "source": [
    "void display_image(const std::string filename){\n",
    "    std::ifstream fin(filename, std::ios::binary);\n",
    "    std::stringstream buffer;\n",
    "    buffer << fin.rdbuf();\n",
    "    // memory objects for output in the web browser\n",
    "    \n",
    "    xeus::xjson mine;\n",
    "    \n",
    "    xeus::get_interpreter().clear_output(true);\n",
    "    \n",
    "    mine[\"image/png\"] = xtl::base64encode(buffer.str());\n",
    "    xeus::get_interpreter().display_data(\n",
    "        std::move(mine),\n",
    "        xeus::xjson::object(),\n",
    "        xeus::xjson::object());\n",
    "}"
   ]
  },
  {
   "cell_type": "code",
   "execution_count": null,
   "metadata": {},
   "outputs": [],
   "source": [
    "display_image(\"pictures/conclusion_basics.png\");"
   ]
  }
 ],
 "metadata": {
  "kernelspec": {
   "display_name": "C++14",
   "language": "C++14",
   "name": "xcpp14"
  },
  "language_info": {
   "codemirror_mode": "text/x-c++src",
   "file_extension": ".cpp",
   "mimetype": "text/x-c++src",
   "name": "c++",
   "version": "-std=c++14"
  }
 },
 "nbformat": 4,
 "nbformat_minor": 4
}
