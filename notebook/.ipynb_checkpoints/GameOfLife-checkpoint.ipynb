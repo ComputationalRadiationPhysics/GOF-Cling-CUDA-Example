{
 "cells": [
  {
   "cell_type": "markdown",
   "metadata": {},
   "source": [
    "# Game of Life on GPU - Interactive & Extensible\n",
    "\n",
    "This notebook demonstrates some functions of Cling-CUDA and Jupyter Notebooks and gives an idea what you can do with C++ in a web browser. The example shows the usual workflow of simulation and analysis. The simulation runs [Conway's Game of Life](https://en.wikipedia.org/wiki/Conway%27s_Game_of_Life) on a GPU.\n",
    "The following functions can be found in the notebook:\n",
    "* [reuse code via header files and shared libraries](#Include-and-Link-Files)\n",
    "* [interactive definition of CUDA kernels](#CUDA-Kernels)\n",
    "* [write a cell directly in a file (magic command)](#Interactive-Input)\n",
    "* [the simple I/O system of Cling](#Cling-I%2FO-System)\n",
    "* [display images directly in the notebook](#Display-Simulation-Images)\n",
    "* [nonlinear program flow](#Nonlinear-Program-Flow)\n",
    "* [In-Situ data analysis (zero copy)](#In-Situ-Data-Analysis)\n",
    "* [dynamic extension of the program without loss of state](#Dynamic-Extension-Without-Loss-of-State)\n",
    "* [continue the simulation analysis loop without additional calculation or memory copies](#Continue-Simulation-Analysis-Loop)\n",
    "\n",
    "You can jump directly to the functions and look at them, but independent execution of the cells is not possible because there are some dependencies. Just start with the first cell and run (`Shift + Enter`) the cells with one exception(see nonlinear program flow) downwards."
   ]
  },
  {
   "cell_type": "markdown",
   "metadata": {},
   "source": [
    "## Include and Link Files\n",
    "* set include path\n",
    "* include files\n",
    "* load precompield shared libary ([pngwriter](https://github.com/pngwriter/pngwriter))"
   ]
  },
  {
   "cell_type": "code",
   "execution_count": null,
   "metadata": {},
   "outputs": [],
   "source": [
    ".I pngwriter/include"
   ]
  },
  {
   "cell_type": "code",
   "execution_count": null,
   "metadata": {},
   "outputs": [],
   "source": [
    "#include <fstream>\n",
    "#include <vector>\n",
    "#include <sstream>\n",
    "#include <chrono>\n",
    "#include <thread>\n",
    "\n",
    "// lib pngwriter\n",
    "#define NO_FREETYPE\n",
    "#include <pngwriter.h>\n",
    "\n",
    "// self-defined help functions\n",
    "#include \"color_maps.hpp\"\n",
    "#include \"input_reader.hpp\"\n",
    "#include \"png_generator.hpp\"\n",
    "\n",
    "// help functions for additional notebook functions\n",
    "#include \"xtl/xbase64.hpp\"\n",
    "#include \"xeus/xjson.hpp\""
   ]
  },
  {
   "cell_type": "code",
   "execution_count": null,
   "metadata": {},
   "outputs": [],
   "source": [
    ".L pngwriter/lib/libPNGwriter.so"
   ]
  },
  {
   "cell_type": "markdown",
   "metadata": {},
   "source": [
    "## CUDA Error Check"
   ]
  },
  {
   "cell_type": "code",
   "execution_count": null,
   "metadata": {},
   "outputs": [],
   "source": [
    "inline void cuCheck(cudaError_t code){\n",
    "    if(code != cudaSuccess){\n",
    "        std::cerr << \"Error code: \" << code << std::endl << cudaGetErrorString(code) << std::endl;\n",
    "    }\n",
    "}"
   ]
  },
  {
   "cell_type": "markdown",
   "metadata": {},
   "source": [
    "## CUDA Kernels\n",
    "* define kernels at runtime\n",
    "* unfortunately C++ forbid redefinition"
   ]
  },
  {
   "cell_type": "code",
   "execution_count": null,
   "metadata": {},
   "outputs": [],
   "source": [
    "__global__ void copy_ghostcells(int dim, int *world) {\n",
    "  int col = blockIdx.x * blockDim.x + threadIdx.x;\n",
    "  int row = blockIdx.y * blockDim.y + threadIdx.y;\n",
    "\n",
    "  // ignore the first two threads: only needed to copy ghost cells for columns \n",
    "  if(col > 1) {\n",
    "    if(row == 0) {\n",
    "      // Copy first real row to bottom ghost row\n",
    "      world[col-1 + (dim+2)*(dim+1)] = world[(dim+2)     + col-1];\n",
    "    }else{\n",
    "      // Copy last real row to top ghost row\n",
    "      world[col-1]                   = world[(dim+2)*dim + col-1];\n",
    "    }\n",
    "  }\n",
    "  __syncthreads();\n",
    "\n",
    "  if(row == 0) {\n",
    "    // Copy first real column to right most ghost column\n",
    "    world[col*(dim+2)+dim+1] = world[col*(dim+2) + 1];\n",
    "  } else {\n",
    "    // Copy last real column to left most ghost column\n",
    "    world[col*(dim+2)      ] = world[col*(dim+2) + dim];\n",
    "  }\n",
    "\n",
    "}"
   ]
  },
  {
   "cell_type": "code",
   "execution_count": null,
   "metadata": {},
   "outputs": [],
   "source": [
    "__global__ void GOL_GPU(int dim, int *world, int *newWorld) {\n",
    "   int row = blockIdx.y * blockDim.y + threadIdx.y + 1;\n",
    "   int col = blockIdx.x * blockDim.x + threadIdx.x + 1;\n",
    "   int id = row*(dim+2) + col;\n",
    "\n",
    "   int numNeighbors;\n",
    "   int cell = world[id];\n",
    "\n",
    "   numNeighbors =   world[id+(dim+2)]   // lower\n",
    "      + world[id-(dim+2)]               // upper\n",
    "      + world[id+1]                     // right\n",
    "      + world[id-1]                     // left\n",
    "\n",
    "      + world[id+(dim+3)]   // diagonal lower right\n",
    "      + world[id-(dim+3)]   // diagonal upper left\n",
    "      + world[id-(dim+1)]   // diagonal upper right\n",
    "      + world[id+(dim+1)];  // diagonal lower left\n",
    "\n",
    "   if (cell == 1 && numNeighbors < 2)\n",
    "      newWorld[id] = 0;\n",
    "\n",
    "    // 2) Any live cell with two or three live neighbours lives\n",
    "    else if (cell == 1 && (numNeighbors == 2 || numNeighbors == 3))\n",
    "      newWorld[id] = 1;\n",
    "\n",
    "    // 3) Any live cell with more than three live neighbours dies\n",
    "    else if (cell == 1 && numNeighbors > 3)\n",
    "      newWorld[id] = 0;\n",
    "\n",
    "    // 4) Any dead cell with exactly three live neighbours becomes a live cell\n",
    "    else if (cell == 0 && numNeighbors == 3)\n",
    "      newWorld[id] = 1;\n",
    "\n",
    "    else\n",
    "      newWorld[id] = cell;\n",
    "}"
   ]
  },
  {
   "cell_type": "markdown",
   "metadata": {},
   "source": [
    "## Game of Life Setup"
   ]
  },
  {
   "cell_type": "code",
   "execution_count": null,
   "metadata": {
    "scrolled": true
   },
   "outputs": [],
   "source": [
    "// size of the world\n",
    "const unsigned int dim = 10;\n",
    "// two extra columns and rows for ghostcells\n",
    "const unsigned int world_size = dim + 2;\n",
    "unsigned int iterations = 5;\n",
    "\n",
    "// pointer for host and device memory \n",
    "int * sim_world;\n",
    "int * d_sim_world;\n",
    "int * d_new_sim_world;\n",
    "int * d_swap;\n",
    "\n",
    "// saves the images of each simulation step\n",
    "std::vector< std::vector< unsigned char > > sim_pngs;\n",
    "// describe the color of a living or dead cell\n",
    "BlackWhiteMap<int> bw_map;\n",
    "\n",
    "// memory objects for output in the web browser\n",
    "std::stringstream buffer;\n",
    "xeus::xjson mine;"
   ]
  },
  {
   "cell_type": "code",
   "execution_count": null,
   "metadata": {},
   "outputs": [],
   "source": [
    "// allocate memory on CPU and GPU\n",
    "sim_world = new int[ world_size * world_size ];\n",
    "cuCheck(cudaMalloc( (void **) &d_sim_world, sizeof(int)*world_size*world_size));\n",
    "cuCheck(cudaMalloc( (void **) &d_new_sim_world, sizeof(int)*world_size*world_size));"
   ]
  },
  {
   "cell_type": "markdown",
   "metadata": {},
   "source": [
    "## Interactive Input\n",
    "* Jupyter Notebook offers \"magic\" commands that provide language-independent functions\n",
    "* magic commands starts with `%%`\n",
    "* `%%file [name]` writes the contents of a cell to a file\n",
    "* depends on the language kernel\n",
    "\n",
    "Define the initial world for the Game-of-Life simulation. `X` are living cells and `0` are dead."
   ]
  },
  {
   "cell_type": "code",
   "execution_count": null,
   "metadata": {},
   "outputs": [],
   "source": [
    "%%file input.txt\n",
    "0 0 0 0 0 0 0 0 0 0\n",
    "0 0 0 0 0 0 0 0 0 0\n",
    "0 0 0 0 0 0 0 0 0 0\n",
    "0 0 0 0 0 0 0 0 0 0\n",
    "0 0 X 0 0 0 0 0 0 0\n",
    "0 0 0 X 0 0 0 0 0 0\n",
    "0 X X X 0 0 0 0 0 0\n",
    "0 0 0 0 0 0 0 0 0 0\n",
    "0 0 0 0 0 0 0 0 0 0\n",
    "0 0 0 0 0 0 0 0 0 0"
   ]
  },
  {
   "cell_type": "markdown",
   "metadata": {},
   "source": [
    "## Cling I/O-System\n",
    "- read_input() reads the initial world from a file and returns an error code \n",
    "- Return values:\n",
    "  *  0 = success\n",
    "  * -1 = file cannot be opened\n",
    "  * -2 = too many elements in file -> extra elements are ignored"
   ]
  },
  {
   "cell_type": "code",
   "execution_count": null,
   "metadata": {},
   "outputs": [],
   "source": [
    "read_input(\"input.txt\", sim_world, dim, dim, true)"
   ]
  },
  {
   "cell_type": "code",
   "execution_count": null,
   "metadata": {},
   "outputs": [],
   "source": [
    "cuCheck(cudaMemcpy(d_sim_world, sim_world, sizeof(int)*world_size*world_size, cudaMemcpyHostToDevice));"
   ]
  },
  {
   "cell_type": "code",
   "execution_count": null,
   "metadata": {},
   "outputs": [],
   "source": [
    "// create an image of the initial world\n",
    "sim_pngs.push_back(generate_png<int>(sim_world, world_size, world_size, &bw_map, true, 20));"
   ]
  },
  {
   "cell_type": "markdown",
   "metadata": {},
   "source": [
    "## Interactive Simulation: Main Loop\n",
    "* calculate the game of life"
   ]
  },
  {
   "cell_type": "code",
   "execution_count": null,
   "metadata": {},
   "outputs": [],
   "source": [
    "// main loop\n",
    "for(unsigned int i = 0; i < iterations; ++i) {\n",
    "\n",
    "    copy_ghostcells<<<1, dim3(dim+2, 2, 1)>>>(dim, d_sim_world);\n",
    "    GOL_GPU<<<1, dim3(dim, dim, 1)>>>(dim, d_sim_world, d_new_sim_world);\n",
    "    cuCheck(cudaDeviceSynchronize());\n",
    "\n",
    "    d_swap = d_new_sim_world;\n",
    "    d_new_sim_world = d_sim_world;\n",
    "    d_sim_world = d_swap;\n",
    "\n",
    "    cuCheck(cudaMemcpy(sim_world, d_sim_world, sizeof(int)*world_size*world_size, cudaMemcpyDeviceToHost));\n",
    "    sim_pngs.push_back(generate_png<int>(sim_world, world_size, world_size, &bw_map, true, 20));\n",
    "}"
   ]
  },
  {
   "cell_type": "markdown",
   "metadata": {},
   "source": [
    "## Display Simulation Images\n",
    "* xeus-cling offers a built-in C++ library for displaying media content in notebooks\n",
    "* see cling-xeus [example](https://github.com/QuantStack/xeus-cling#trying-it-online)"
   ]
  },
  {
   "cell_type": "code",
   "execution_count": null,
   "metadata": {},
   "outputs": [],
   "source": [
    "xeus::get_interpreter().clear_output(true);\n",
    "for(int i = 0; i < sim_pngs.size(); ++i) {\n",
    "    buffer.str(\"\");\n",
    "    for(auto c : sim_pngs[i]){\n",
    "        buffer << c;\n",
    "    }\n",
    "    \n",
    "    mine[\"image/png\"] = xtl::base64encode(buffer.str());\n",
    "    xeus::get_interpreter().display_data(\n",
    "        std::move(mine),\n",
    "        xeus::xjson::object(),\n",
    "        xeus::xjson::object());\n",
    "    std::cout << \"iteration = \" << i << std::endl;\n",
    "    \n",
    "    std::this_thread::sleep_for(std::chrono::milliseconds(800));\n",
    "    xeus::get_interpreter().clear_output(true);\n",
    "}"
   ]
  },
  {
   "cell_type": "markdown",
   "metadata": {},
   "source": [
    "## Nonlinear Program Flow\n",
    "\n",
    "Jupyter Notebook enables nonlinear program execution. You can execute a cell again. The result may vary depending on the source code and the state of the runtime.\n",
    "\n",
    "For example, if you repeat the main loop of the simulation, the simulation continues because the state of the simulation is in the 5th iteration. If you run the cell again, you calculate step 6 to 10 of the simulation. You can also change cell variables. Simply set the `iterations` variable to `3`, run the [main loop](#Interactive-Simulation%3A-Main-Loop) and the visualization cell again and see what happens."
   ]
  },
  {
   "cell_type": "code",
   "execution_count": null,
   "metadata": {},
   "outputs": [],
   "source": [
    "iterations = 3;"
   ]
  },
  {
   "cell_type": "markdown",
   "metadata": {},
   "source": [
    "# In-Situ Data Analysis\n",
    "\n",
    "After the simulation, the results must be analyzed. Often it is processed by an additional process, which means that you have to write your data to disk and reload it. Depending on the simulation, it can take a long time. Alternatively, you can integrate your analysis into the simulation. Then you don't need the time to save and load the data, but you need to know what you want to analyze before running the simulation. If you want to perform another analysis, e.g. because you get new insights from a previous analysis, you have to run the simulation again.\n",
    "\n",
    "Cling can combine the advantages of both methods. You can add an analysis at runtime and analyze the simulation data without copying it.\n",
    "\n",
    "**Add a new analysis**\n",
    "\n",
    "Count the neighbors of a cell and display them as a heat map.\n",
    "\n",
    "* persistent simulation data *on the GPU*\n",
    "* add analysis *on-the-fly* and *in-memory*"
   ]
  },
  {
   "cell_type": "markdown",
   "metadata": {},
   "source": [
    "## Dynamic Extension Without Loss of State\n",
    "\n",
    "Define an analysis kernel on-the-fly."
   ]
  },
  {
   "cell_type": "code",
   "execution_count": null,
   "metadata": {},
   "outputs": [],
   "source": [
    "// get_num_neighbors\n",
    "__global__ void get_num_neighbors(int dim, int *world, int *newWorld) {\n",
    "   int row = blockIdx.y * blockDim.y + threadIdx.y + 1;\n",
    "   int col = blockIdx.x * blockDim.x + threadIdx.x + 1;\n",
    "   int id = row*(dim+2) + col;\n",
    "\n",
    "   newWorld[id] =   world[id+(dim+2)]   // lower\n",
    "      + world[id-(dim+2)]               // upper\n",
    "      + world[id+1]                     // right\n",
    "      + world[id-1]                     // left\n",
    "\n",
    "      + world[id+(dim+3)]   // diagonal lower right\n",
    "      + world[id-(dim+3)]   // diagonal upper left\n",
    "      + world[id-(dim+1)]   // diagonal upper right\n",
    "      + world[id+(dim+1)];  // diagonal lower left\n",
    "}"
   ]
  },
  {
   "cell_type": "code",
   "execution_count": null,
   "metadata": {},
   "outputs": [],
   "source": [
    "// allocate extra memory on the GPU to ouput the analysis\n",
    "int * d_ana_world;\n",
    "cuCheck(cudaMalloc( (void **) &d_ana_world, sizeof(int)*world_size*world_size));\n",
    "\n",
    "// allocate memory on CPU to generate an image\n",
    "std::vector< std::vector< unsigned char > > ana_pngs;\n",
    "int * ana_world = new int[world_size*world_size];"
   ]
  },
  {
   "cell_type": "code",
   "execution_count": null,
   "metadata": {},
   "outputs": [],
   "source": [
    "// run the analysis\n",
    "// uuse the simulation data as input and write the result into an extra memory\n",
    "get_num_neighbors<<<1,dim3(dim, dim, 1)>>>(dim, d_sim_world, d_ana_world);"
   ]
  },
  {
   "cell_type": "code",
   "execution_count": null,
   "metadata": {},
   "outputs": [],
   "source": [
    "// copy analysis data to the CPU\n",
    "cuCheck(cudaMemcpy(ana_world, d_ana_world, sizeof(int)*world_size*world_size, cudaMemcpyDeviceToHost));"
   ]
  },
  {
   "cell_type": "code",
   "execution_count": null,
   "metadata": {},
   "outputs": [],
   "source": [
    "// define a color map for the heat map\n",
    "// use the same code which has generated images of the game of life world\n",
    "template <typename varTyp>\n",
    "struct HeatMap : ColorMap<varTyp>\n",
    "{\n",
    "    int r(varTyp value){return value * 65535/8;}\n",
    "    int g(varTyp value){return 0;}\n",
    "    int b(varTyp value){return 0;}\n",
    "};\n",
    "HeatMap<int> h_map;"
   ]
  },
  {
   "cell_type": "code",
   "execution_count": null,
   "metadata": {},
   "outputs": [],
   "source": [
    "// generate a heat map image\n",
    "ana_pngs.push_back(generate_png<int>(ana_world, world_size, world_size, &h_map, true, 20));"
   ]
  },
  {
   "cell_type": "code",
   "execution_count": null,
   "metadata": {},
   "outputs": [],
   "source": [
    "xeus::get_interpreter().clear_output(true);\n",
    "for(int i = 0; i < ana_pngs.size(); ++i) {\n",
    "    buffer.str(\"\");\n",
    "    for(auto c : ana_pngs[i]){\n",
    "        buffer << c;\n",
    "    }\n",
    "    \n",
    "    mine[\"image/png\"] = xtl::base64encode(buffer.str());\n",
    "    xeus::get_interpreter().display_data(\n",
    "        std::move(mine),\n",
    "        xeus::xjson::object(),\n",
    "        xeus::xjson::object());\n",
    "    std::cout << \"iteration = \" << i << std::endl;\n",
    "    \n",
    "    std::this_thread::sleep_for(std::chrono::milliseconds(800));\n",
    "    xeus::get_interpreter().clear_output(true);\n",
    "}"
   ]
  },
  {
   "cell_type": "markdown",
   "metadata": {},
   "source": [
    "# Continue Simulation-Analysis-Loop\n",
    "\n",
    "You have completed your first iteration of the analysis. Now you can continue the simulation with "
   ]
  },
  {
   "cell_type": "code",
   "execution_count": null,
   "metadata": {},
   "outputs": [],
   "source": [
    "iterations = 3;"
   ]
  },
  {
   "cell_type": "markdown",
   "metadata": {},
   "source": [
    "steps and run the main loop and the neighborhood analysis again"
   ]
  },
  {
   "cell_type": "code",
   "execution_count": null,
   "metadata": {},
   "outputs": [],
   "source": [
    "// copy together the content of different cells, to avoid extra navigation\n",
    "\n",
    "// main loop\n",
    "for(unsigned int i = 0; i < iterations; ++i) {\n",
    "\n",
    "    copy_ghostcells<<<1, dim3(dim+2, 2, 1)>>>(dim, d_sim_world);\n",
    "    GOL_GPU<<<1, dim3(dim, dim, 1)>>>(dim, d_sim_world, d_new_sim_world);\n",
    "    cuCheck(cudaDeviceSynchronize());\n",
    "\n",
    "    d_swap = d_new_sim_world;\n",
    "    d_new_sim_world = d_sim_world;\n",
    "    d_sim_world = d_swap;\n",
    "\n",
    "    cuCheck(cudaMemcpy(sim_world, d_sim_world, sizeof(int)*world_size*world_size, cudaMemcpyDeviceToHost));\n",
    "    sim_pngs.push_back(generate_png<int>(sim_world, world_size, world_size, &bw_map, true, 20));\n",
    "}\n",
    "\n",
    "// run the analysis\n",
    "// use the simulation data as input and write the result to an extra chuck of memory\n",
    "get_num_neighbors<<<1,dim3(dim, dim, 1)>>>(dim, d_sim_world, d_ana_world);\n",
    "\n",
    "// copy analysis data to CPU\n",
    "cuCheck(cudaMemcpy(ana_world, d_ana_world, sizeof(int)*world_size*world_size, cudaMemcpyDeviceToHost));\n",
    "\n",
    "ana_pngs.clear();\n",
    "\n",
    "// generate heat map image\n",
    "ana_pngs.push_back(generate_png<int>(ana_world, world_size, world_size, &h_map, true, 20));\n",
    "\n",
    "xeus::get_interpreter().clear_output(true);\n",
    "for(int i = 0; i < ana_pngs.size(); ++i) {\n",
    "    buffer.str(\"\");\n",
    "    for(auto c : ana_pngs[i]){\n",
    "        buffer << c;\n",
    "    }\n",
    "    \n",
    "    mine[\"image/png\"] = xtl::base64encode(buffer.str());\n",
    "    xeus::get_interpreter().display_data(\n",
    "        std::move(mine),\n",
    "        xeus::xjson::object(),\n",
    "        xeus::xjson::object());\n",
    "    std::cout << \"iteration = \" << i << std::endl;\n",
    "    \n",
    "    std::this_thread::sleep_for(std::chrono::milliseconds(800));\n",
    "    xeus::get_interpreter().clear_output(true);\n",
    "}"
   ]
  },
  {
   "cell_type": "markdown",
   "metadata": {},
   "source": [
    "or develop a new analysis:"
   ]
  },
  {
   "cell_type": "code",
   "execution_count": null,
   "metadata": {},
   "outputs": [],
   "source": [
    "// time for new code"
   ]
  },
  {
   "cell_type": "markdown",
   "metadata": {},
   "source": [
    "Click [here](#Display-Simulation-Images) to jump to the visualization cell of the simulation and display all simulation steps."
   ]
  }
 ],
 "metadata": {
  "kernelspec": {
   "display_name": "C++14-CUDA",
   "language": "C++14",
   "name": "xeus-cling-cpp14-cuda"
  },
  "language_info": {
   "codemirror_mode": "text/x-c++src",
   "file_extension": ".cpp",
   "mimetype": "text/x-c++src",
   "name": "c++",
   "version": "-std=c++14"
  }
 },
 "nbformat": 4,
 "nbformat_minor": 4
}
